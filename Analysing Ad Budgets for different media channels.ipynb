{
 "cells": [
  {
   "cell_type": "code",
   "execution_count": 22,
   "metadata": {},
   "outputs": [],
   "source": [
    "import pandas as pd\n",
    "import numpy as np\n",
    "from sklearn.linear_model import LinearRegression"
   ]
  },
  {
   "cell_type": "code",
   "execution_count": 23,
   "metadata": {},
   "outputs": [
    {
     "data": {
      "text/html": [
       "<div>\n",
       "<style scoped>\n",
       "    .dataframe tbody tr th:only-of-type {\n",
       "        vertical-align: middle;\n",
       "    }\n",
       "\n",
       "    .dataframe tbody tr th {\n",
       "        vertical-align: top;\n",
       "    }\n",
       "\n",
       "    .dataframe thead th {\n",
       "        text-align: right;\n",
       "    }\n",
       "</style>\n",
       "<table border=\"1\" class=\"dataframe\">\n",
       "  <thead>\n",
       "    <tr style=\"text-align: right;\">\n",
       "      <th></th>\n",
       "      <th>TV Ad Budget ($)</th>\n",
       "      <th>Radio Ad Budget ($)</th>\n",
       "      <th>Newspaper Ad Budget ($)</th>\n",
       "      <th>Sales ($)</th>\n",
       "    </tr>\n",
       "  </thead>\n",
       "  <tbody>\n",
       "    <tr>\n",
       "      <td>1</td>\n",
       "      <td>230.1</td>\n",
       "      <td>37.8</td>\n",
       "      <td>69.2</td>\n",
       "      <td>22.1</td>\n",
       "    </tr>\n",
       "    <tr>\n",
       "      <td>2</td>\n",
       "      <td>44.5</td>\n",
       "      <td>39.3</td>\n",
       "      <td>45.1</td>\n",
       "      <td>10.4</td>\n",
       "    </tr>\n",
       "    <tr>\n",
       "      <td>3</td>\n",
       "      <td>17.2</td>\n",
       "      <td>45.9</td>\n",
       "      <td>69.3</td>\n",
       "      <td>9.3</td>\n",
       "    </tr>\n",
       "    <tr>\n",
       "      <td>4</td>\n",
       "      <td>151.5</td>\n",
       "      <td>41.3</td>\n",
       "      <td>58.5</td>\n",
       "      <td>18.5</td>\n",
       "    </tr>\n",
       "    <tr>\n",
       "      <td>5</td>\n",
       "      <td>180.8</td>\n",
       "      <td>10.8</td>\n",
       "      <td>58.4</td>\n",
       "      <td>12.9</td>\n",
       "    </tr>\n",
       "  </tbody>\n",
       "</table>\n",
       "</div>"
      ],
      "text/plain": [
       "   TV Ad Budget ($)  Radio Ad Budget ($)  Newspaper Ad Budget ($)  Sales ($)\n",
       "1             230.1                 37.8                     69.2       22.1\n",
       "2              44.5                 39.3                     45.1       10.4\n",
       "3              17.2                 45.9                     69.3        9.3\n",
       "4             151.5                 41.3                     58.5       18.5\n",
       "5             180.8                 10.8                     58.4       12.9"
      ]
     },
     "execution_count": 23,
     "metadata": {},
     "output_type": "execute_result"
    }
   ],
   "source": [
    "df_ad_dataset = pd.read_csv('Advertising Budget and Sales.csv', index_col=0)\n",
    "df_ad_dataset.head()"
   ]
  },
  {
   "cell_type": "code",
   "execution_count": 24,
   "metadata": {},
   "outputs": [
    {
     "data": {
      "text/plain": [
       "Index(['TV Ad Budget ($)', 'Radio Ad Budget ($)', 'Newspaper Ad Budget ($)',\n",
       "       'Sales ($)'],\n",
       "      dtype='object')"
      ]
     },
     "execution_count": 24,
     "metadata": {},
     "output_type": "execute_result"
    }
   ],
   "source": [
    "df_ad_dataset.columns"
   ]
  },
  {
   "cell_type": "code",
   "execution_count": 39,
   "metadata": {},
   "outputs": [
    {
     "name": "stdout",
     "output_type": "stream",
     "text": [
      "(200, 3) (200, 1)\n"
     ]
    }
   ],
   "source": [
    "#feature object creation \n",
    "\n",
    "X_feature = df_ad_dataset[['TV Ad Budget ($)', 'Radio Ad Budget ($)', 'Newspaper Ad Budget ($)']]\n",
    "Y_target = df_ad_dataset[['Sales ($)']]\n",
    "\n",
    "print(X_feature.shape, Y_target.shape)"
   ]
  },
  {
   "cell_type": "code",
   "execution_count": 29,
   "metadata": {},
   "outputs": [],
   "source": [
    "linreg = LinearRegression()\n"
   ]
  },
  {
   "cell_type": "code",
   "execution_count": null,
   "metadata": {},
   "outputs": [],
   "source": []
  },
  {
   "cell_type": "code",
   "execution_count": 40,
   "metadata": {},
   "outputs": [],
   "source": [
    "from sklearn.model_selection import train_test_split\n",
    "X_train, X_test, Y_train, Y_test = train_test_split(X_feature, Y_target)"
   ]
  },
  {
   "cell_type": "code",
   "execution_count": 41,
   "metadata": {},
   "outputs": [
    {
     "name": "stdout",
     "output_type": "stream",
     "text": [
      "     TV Ad Budget ($)  Radio Ad Budget ($)  Newspaper Ad Budget ($)\n",
      "37              266.9                 43.8                      5.0\n",
      "43              293.6                 27.7                      1.8\n",
      "138             273.7                 28.9                     59.7\n",
      "167              17.9                 37.6                     21.6\n",
      "45               25.1                 25.7                     43.3\n",
      "..                ...                  ...                      ...\n",
      "198             177.0                  9.3                      6.4\n",
      "70              216.8                 43.9                     27.2\n",
      "135              36.9                 38.6                     65.6\n",
      "179             276.7                  2.3                     23.7\n",
      "54              182.6                 46.2                     58.7\n",
      "\n",
      "[150 rows x 3 columns]      TV Ad Budget ($)  Radio Ad Budget ($)  Newspaper Ad Budget ($)\n",
      "60              210.7                 29.5                      9.3\n",
      "175             222.4                  3.4                     13.1\n",
      "47               89.7                  9.9                     35.7\n",
      "10              199.8                  2.6                     21.2\n",
      "165             117.2                 14.7                      5.4\n",
      "164             163.5                 36.8                      7.4\n",
      "65              131.1                 42.8                     28.9\n",
      "161             172.5                 18.1                     30.7\n",
      "83               75.3                 20.3                     32.5\n",
      "72              109.8                 14.3                     31.7\n",
      "101             222.4                  4.3                     49.8\n",
      "18              281.4                 39.6                     55.8\n",
      "136              48.3                 47.0                      8.5\n",
      "40              228.0                 37.7                     32.0\n",
      "162              85.7                 35.8                     49.3\n",
      "87               76.3                 27.5                     16.0\n",
      "109              13.1                  0.4                     25.6\n",
      "110             255.4                 26.9                      5.5\n",
      "26              262.9                  3.5                     19.5\n",
      "97              197.6                  3.5                      5.9\n",
      "48              239.9                 41.5                     18.5\n",
      "149              38.0                 40.3                     11.9\n",
      "178             170.2                  7.8                     35.2\n",
      "189             286.0                 13.9                      3.7\n",
      "90              109.8                 47.8                     51.4\n",
      "44              206.9                  8.4                     26.4\n",
      "2                44.5                 39.3                     45.1\n",
      "172             164.5                 20.9                     47.4\n",
      "199             283.6                 42.0                     66.2\n",
      "122              18.8                 21.7                     50.4\n",
      "5               180.8                 10.8                     58.4\n",
      "27              142.9                 29.3                     12.6\n",
      "151             280.7                 13.9                     37.0\n",
      "24              228.3                 16.9                     26.2\n",
      "139              43.0                 25.9                     20.5\n",
      "34              265.6                 20.0                      0.3\n",
      "180             165.6                 10.0                     17.6\n",
      "62              261.3                 42.7                     54.7\n",
      "51              199.8                  3.1                     34.6\n",
      "153             197.6                 23.3                     14.2\n",
      "194             166.8                 42.0                      3.6\n",
      "3                17.2                 45.9                     69.3\n",
      "69              237.4                 27.5                     11.0\n",
      "137              25.6                 39.0                      9.3\n",
      "35               95.7                  1.4                      7.4\n",
      "82              239.8                  4.1                     36.9\n",
      "53              216.4                 41.7                     39.6\n",
      "145              96.2                 14.8                     38.9\n",
      "128              80.2                  0.0                      9.2\n",
      "39               43.1                 26.7                     35.1      Sales ($)\n",
      "37        25.4\n",
      "43        20.7\n",
      "138       20.8\n",
      "167        8.0\n",
      "45         8.5\n",
      "..         ...\n",
      "198       12.8\n",
      "70        22.3\n",
      "135       10.8\n",
      "179       11.8\n",
      "54        21.2\n",
      "\n",
      "[150 rows x 1 columns]      Sales ($)\n",
      "60        18.4\n",
      "175       11.5\n",
      "47        10.6\n",
      "10        10.6\n",
      "165       11.9\n",
      "164       18.0\n",
      "65        18.0\n",
      "161       14.4\n",
      "83        11.3\n",
      "72        12.4\n",
      "101       11.7\n",
      "18        24.4\n",
      "136       11.6\n",
      "40        21.5\n",
      "162       13.3\n",
      "87        12.0\n",
      "109        5.3\n",
      "110       19.8\n",
      "26        12.0\n",
      "97        11.7\n",
      "48        23.2\n",
      "149       10.9\n",
      "178       11.7\n",
      "189       15.9\n",
      "90        16.7\n",
      "44        12.9\n",
      "2         10.4\n",
      "172       14.5\n",
      "199       25.5\n",
      "122        7.0\n",
      "5         12.9\n",
      "27        15.0\n",
      "151       16.1\n",
      "24        15.5\n",
      "139        9.6\n",
      "34        17.4\n",
      "180       12.6\n",
      "62        24.2\n",
      "51        11.4\n",
      "153       16.6\n",
      "194       19.6\n",
      "3          9.3\n",
      "69        18.9\n",
      "137        9.5\n",
      "35         9.5\n",
      "82        12.3\n",
      "53        22.6\n",
      "145       11.4\n",
      "128        8.8\n",
      "39        10.1\n"
     ]
    }
   ],
   "source": [
    "print(X_train, X_test, Y_train, Y_test )"
   ]
  },
  {
   "cell_type": "code",
   "execution_count": 44,
   "metadata": {},
   "outputs": [
    {
     "data": {
      "text/plain": [
       "LinearRegression(copy_X=True, fit_intercept=True, n_jobs=None, normalize=False)"
      ]
     },
     "execution_count": 44,
     "metadata": {},
     "output_type": "execute_result"
    }
   ],
   "source": [
    "linreg.fit(X_train, Y_train)\n"
   ]
  },
  {
   "cell_type": "code",
   "execution_count": 63,
   "metadata": {},
   "outputs": [
    {
     "name": "stdout",
     "output_type": "stream",
     "text": [
      "1.549814198536934\n"
     ]
    }
   ],
   "source": [
    "from sklearn import metrics\n",
    "print (np.sqrt(metrics.mean_squared_error(Y_test, y_pred)))"
   ]
  },
  {
   "cell_type": "code",
   "execution_count": 59,
   "metadata": {},
   "outputs": [
    {
     "name": "stdout",
     "output_type": "stream",
     "text": [
      "the coefficient and intercept are: [[ 0.04658592  0.18281228 -0.00095033]] and [3.02050472]\n"
     ]
    }
   ],
   "source": [
    "print(\"the coefficient and intercept are: {} and {}\" .format((linreg.coef_), (linreg.intercept_)))"
   ]
  },
  {
   "cell_type": "code",
   "execution_count": 61,
   "metadata": {},
   "outputs": [
    {
     "data": {
      "text/plain": [
       "array([[18.22028161],\n",
       "       [13.99032506],\n",
       "       [ 8.97517615],\n",
       "       [12.78353581],\n",
       "       [11.16258292],\n",
       "       [17.3577616 ],\n",
       "       [16.9248194 ],\n",
       "       [14.33630245],\n",
       "       [10.20862772],\n",
       "       [10.71972845],\n",
       "       [14.11997887],\n",
       "       [23.31611946],\n",
       "       [13.85470384],\n",
       "       [20.5037061 ],\n",
       "       [13.51074599],\n",
       "       [11.58714256],\n",
       "       [ 3.6795766 ],\n",
       "       [19.83097145],\n",
       "       [15.8892538 ],\n",
       "       [12.86011795],\n",
       "       [21.76559468],\n",
       "       [12.14679549],\n",
       "       [12.34191185],\n",
       "       [18.88165147],\n",
       "       [16.82521826],\n",
       "       [14.16966531],\n",
       "       [12.23524059],\n",
       "       [14.45961892],\n",
       "       [23.84747448],\n",
       "       [ 7.81544962],\n",
       "       [13.36211167],\n",
       "       [15.02205788],\n",
       "       [18.6031    ],\n",
       "       [16.72069839],\n",
       "       [ 9.73905537],\n",
       "       [19.0496848 ],\n",
       "       [12.54652952],\n",
       "       [22.94750597],\n",
       "       [12.86220748],\n",
       "       [16.47191333],\n",
       "       [18.46573025],\n",
       "       [12.14700803],\n",
       "       [19.09688547],\n",
       "       [11.33394502],\n",
       "       [ 7.72768171],\n",
       "       [14.90627068],\n",
       "       [20.68733605],\n",
       "       [10.17072371],\n",
       "       [ 6.7479522 ],\n",
       "       [ 9.87608891]])"
      ]
     },
     "execution_count": 61,
     "metadata": {},
     "output_type": "execute_result"
    }
   ],
   "source": [
    "y_pred = linreg.predict(X_test)\n",
    "y_pred"
   ]
  },
  {
   "cell_type": "code",
   "execution_count": null,
   "metadata": {},
   "outputs": [],
   "source": []
  }
 ],
 "metadata": {
  "kernelspec": {
   "display_name": "Python 3",
   "language": "python",
   "name": "python3"
  },
  "language_info": {
   "codemirror_mode": {
    "name": "ipython",
    "version": 3
   },
   "file_extension": ".py",
   "mimetype": "text/x-python",
   "name": "python",
   "nbconvert_exporter": "python",
   "pygments_lexer": "ipython3",
   "version": "3.7.4"
  }
 },
 "nbformat": 4,
 "nbformat_minor": 2
}
