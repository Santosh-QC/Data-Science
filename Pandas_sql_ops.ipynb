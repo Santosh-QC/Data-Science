{
 "cells": [
  {
   "cell_type": "code",
   "execution_count": 1,
   "metadata": {},
   "outputs": [
    {
     "data": {
      "text/plain": [
       "[]"
      ]
     },
     "execution_count": 1,
     "metadata": {},
     "output_type": "execute_result"
    }
   ],
   "source": [
    "#pandas SQL operation\n",
    "\n",
    "#pandas sql operations\n",
    "\n",
    "import pandas as pd\n",
    "import sqlite3\n",
    "create_table = \"\"\"\n",
    "CREATE TABLE student_score\n",
    "(Id INTEGER, Name VARCHAR(20), Math REAL, Science REAL\n",
    ");\"\"\"\n",
    "\n",
    "executeSQL = sqlite3.connect(':memory:')\n",
    "executeSQL.execute(create_table)\n",
    "executeSQL.commit()\n",
    "\n",
    "SQL_query = executeSQL.execute('select * from student_score')\n",
    "resultset = SQL_query.fetchall()\n",
    "resultset"
   ]
  },
  {
   "cell_type": "code",
   "execution_count": 6,
   "metadata": {},
   "outputs": [
    {
     "data": {
      "text/plain": [
       "[(10, 'jack', 85.0, 92.0),\n",
       " (29, 'tom', 73.0, 89.0),\n",
       " (65, 'ram', 65.5, 77.0),\n",
       " (5, 'steve', 55.0, 91.0),\n",
       " (10, 'jack', 85.0, 92.0),\n",
       " (29, 'tom', 73.0, 89.0),\n",
       " (65, 'ram', 65.5, 77.0),\n",
       " (5, 'steve', 55.0, 91.0),\n",
       " (10, 'jack', 85.0, 92.0),\n",
       " (29, 'tom', 73.0, 89.0),\n",
       " (65, 'ram', 65.5, 77.0),\n",
       " (5, 'steve', 55.0, 91.0)]"
      ]
     },
     "execution_count": 6,
     "metadata": {},
     "output_type": "execute_result"
    }
   ],
   "source": [
    "#pandas sql operation\n",
    "\n",
    "insertsql = [(10, 'jack', 85, 92), (29, 'tom', 73, 89), (65, 'ram', 65.5, 77), (5, 'steve', 55, 91)]\n",
    "insert_st = 'Insert into student_score values(?,?,?,?)'\n",
    "executeSQL.executemany(insert_st, insertsql)\n",
    "executeSQL.commit()\n",
    "SQL_query = executeSQL.execute(\"select * from student_score\")\n",
    "resultset = SQL_query.fetchall()\n",
    "resultset"
   ]
  },
  {
   "cell_type": "code",
   "execution_count": 17,
   "metadata": {},
   "outputs": [
    {
     "ename": "NameError",
     "evalue": "name 'resulset' is not defined",
     "output_type": "error",
     "traceback": [
      "\u001b[1;31m---------------------------------------------------------------------------\u001b[0m",
      "\u001b[1;31mNameError\u001b[0m                                 Traceback (most recent call last)",
      "\u001b[1;32m<ipython-input-17-f72dd98d7664>\u001b[0m in \u001b[0;36m<module>\u001b[1;34m\u001b[0m\n\u001b[0;32m      1\u001b[0m \u001b[1;31m#put records on a dataframe\u001b[0m\u001b[1;33m\u001b[0m\u001b[1;33m\u001b[0m\u001b[1;33m\u001b[0m\u001b[0m\n\u001b[0;32m      2\u001b[0m \u001b[1;33m\u001b[0m\u001b[0m\n\u001b[1;32m----> 3\u001b[1;33m \u001b[0mdf_student_recors\u001b[0m \u001b[1;33m=\u001b[0m \u001b[0mpd\u001b[0m\u001b[1;33m.\u001b[0m\u001b[0mDataFrame\u001b[0m\u001b[1;33m(\u001b[0m\u001b[0mresulset\u001b[0m\u001b[1;33m,\u001b[0m\u001b[0mcolumns\u001b[0m\u001b[1;33m=\u001b[0m \u001b[0mzip\u001b[0m\u001b[1;33m(\u001b[0m\u001b[1;33m*\u001b[0m\u001b[0mSQL_query\u001b[0m\u001b[1;33m.\u001b[0m\u001b[0mdescription\u001b[0m\u001b[1;33m)\u001b[0m\u001b[1;33m[\u001b[0m\u001b[1;36m0\u001b[0m\u001b[1;33m]\u001b[0m\u001b[1;33m)\u001b[0m\u001b[1;33m\u001b[0m\u001b[1;33m\u001b[0m\u001b[0m\n\u001b[0m\u001b[0;32m      4\u001b[0m \u001b[0mdf_student_recors\u001b[0m\u001b[1;33m\u001b[0m\u001b[1;33m\u001b[0m\u001b[0m\n",
      "\u001b[1;31mNameError\u001b[0m: name 'resulset' is not defined"
     ]
    }
   ],
   "source": [
    "#put records on a dataframe\n",
    "\n",
    "df_student_recors = pd.DataFrame(resulset,columns= zip(*SQL_query.description)[0])\n",
    "df_student_recors"
   ]
  },
  {
   "cell_type": "code",
   "execution_count": null,
   "metadata": {},
   "outputs": [],
   "source": []
  }
 ],
 "metadata": {
  "kernelspec": {
   "display_name": "Python 3",
   "language": "python",
   "name": "python3"
  },
  "language_info": {
   "codemirror_mode": {
    "name": "ipython",
    "version": 3
   },
   "file_extension": ".py",
   "mimetype": "text/x-python",
   "name": "python",
   "nbconvert_exporter": "python",
   "pygments_lexer": "ipython3",
   "version": "3.7.4"
  }
 },
 "nbformat": 4,
 "nbformat_minor": 2
}
