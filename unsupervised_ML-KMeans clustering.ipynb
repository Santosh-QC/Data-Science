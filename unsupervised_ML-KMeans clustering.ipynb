{
 "cells": [
  {
   "cell_type": "code",
   "execution_count": 2,
   "metadata": {},
   "outputs": [
    {
     "name": "stderr",
     "output_type": "stream",
     "text": [
      "C:\\ProgramData\\Anaconda3\\lib\\importlib\\_bootstrap.py:219: RuntimeWarning: numpy.ufunc size changed, may indicate binary incompatibility. Expected 192 from C header, got 216 from PyObject\n",
      "  return f(*args, **kwds)\n",
      "C:\\ProgramData\\Anaconda3\\lib\\importlib\\_bootstrap.py:219: RuntimeWarning: numpy.ufunc size changed, may indicate binary incompatibility. Expected 192 from C header, got 216 from PyObject\n",
      "  return f(*args, **kwds)\n"
     ]
    }
   ],
   "source": [
    "import pandas as pd\n",
    "import numpy as np\n",
    "from sklearn.cluster import KMeans\n",
    "#import make blobs datasets from sklearn.cluster\n",
    "from sklearn.datasets import make_blobs"
   ]
  },
  {
   "cell_type": "code",
   "execution_count": 3,
   "metadata": {},
   "outputs": [
    {
     "name": "stdout",
     "output_type": "stream",
     "text": [
      "[2 0 2 0 0 0 0 2 1 1 1 1 0 1 1 2 1 0 2 0 2 0 0 0 1 0 1 0 1 2 0 2 1 1 2 1 1\n",
      " 2 0 2 2 2 0 0 0 0 2 1 2 0 2 0 1 0 0 1 2 2 1 2 2 2 1 1 2 2 0 1 1 1 1 2 2 1\n",
      " 1 1 2 1 2 1 1 0 2 1 1 1 1 1 2 2 2 1 2 0 0 2 1 1 2 0 1 1 1 2 1 2 0 1 0 0 2\n",
      " 2 1 2 0 1 0 0 0 0 0 0 1 0 2 0 0 2 0 2 2 2 0 1 1 1 2 0 1 1 1 0 1 0 1 0 2 2\n",
      " 2 1 2 2 0 2 0 2 1 2 2 2 2 1 0 2 2 1 2 2 1 1 1 0 0 1 0 0 2 2 2 2 1 0 0 2 0\n",
      " 2 1 0 0 2 0 0 1 2 2 2 0 1 0 1 2 0 1 0 2 0 2 2 0 2 1 0 0 0 2 1 0 2 2 2 0 2\n",
      " 1 2 1 0 0 2 0 2 2 1 0 0 1 1 2 0 0 0 1 0 2 1 1 2 1 0 1 2 1 0 0 0 1 0 1 1 0\n",
      " 2 0 0 2 0 2 2 0 1 0 2 0 0 0 1 0 1 1 1 1 2 0 1 2 1 1 1 1 1 2 1 2 2 0 1 1 1\n",
      " 2 0 2 0]\n"
     ]
    }
   ],
   "source": [
    "#define number of samples\n",
    "n_samples = 300\n",
    "#define random state value to initialize center\n",
    "random_state = 20\n",
    "#define number of feature as 5\n",
    "X,y = make_blobs(n_samples=n_samples, n_features=5, random_state=None)\n",
    "#define the number of cluster to be formed as 3 and in random stae and fit features into model\n",
    "predict_y = KMeans(n_clusters=3, random_state=random_state).fit_predict(X)\n",
    "#print estimator prediction\n",
    "print(predict_y)"
   ]
  },
  {
   "cell_type": "code",
   "execution_count": null,
   "metadata": {},
   "outputs": [],
   "source": []
  }
 ],
 "metadata": {
  "kernelspec": {
   "display_name": "Python 3",
   "language": "python",
   "name": "python3"
  },
  "language_info": {
   "codemirror_mode": {
    "name": "ipython",
    "version": 3
   },
   "file_extension": ".py",
   "mimetype": "text/x-python",
   "name": "python",
   "nbconvert_exporter": "python",
   "pygments_lexer": "ipython3",
   "version": "3.7.4"
  }
 },
 "nbformat": 4,
 "nbformat_minor": 2
}
