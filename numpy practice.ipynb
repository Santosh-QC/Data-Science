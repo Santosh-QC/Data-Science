{
 "cells": [
  {
   "cell_type": "code",
   "execution_count": 1,
   "metadata": {},
   "outputs": [
    {
     "name": "stdout",
     "output_type": "stream",
     "text": [
      "[1 2 3 4]\n"
     ]
    }
   ],
   "source": [
    "import numpy as np\n",
    "ft = np.array([1,2,3,4])\n",
    "print(ft)"
   ]
  },
  {
   "cell_type": "code",
   "execution_count": 2,
   "metadata": {},
   "outputs": [
    {
     "name": "stdout",
     "output_type": "stream",
     "text": [
      "[[0. 0. 0.]\n",
      " [0. 0. 0.]\n",
      " [0. 0. 0.]]\n"
     ]
    }
   ],
   "source": [
    "arr_zer = np.zeros((3,3))\n",
    "print(arr_zer)"
   ]
  },
  {
   "cell_type": "code",
   "execution_count": 3,
   "metadata": {},
   "outputs": [
    {
     "name": "stdout",
     "output_type": "stream",
     "text": [
      "[[1. 1. 1. 1.]\n",
      " [1. 1. 1. 1.]\n",
      " [1. 1. 1. 1.]\n",
      " [1. 1. 1. 1.]]\n"
     ]
    }
   ],
   "source": [
    "array_ones = np.ones((4,4))\n",
    "print(array_ones)"
   ]
  },
  {
   "cell_type": "code",
   "execution_count": 7,
   "metadata": {},
   "outputs": [
    {
     "name": "stdout",
     "output_type": "stream",
     "text": [
      "[[6.23042070e-307 3.56043053e-307 1.60219306e-306 7.56571288e-307\n",
      "  1.89146896e-307]\n",
      " [1.37961302e-306 1.05699242e-307 8.01097889e-307 1.78020169e-306\n",
      "  7.56601165e-307]\n",
      " [1.02359984e-306 1.11259940e-306 1.11261774e-306 1.78019625e-306\n",
      "  1.11261774e-306]\n",
      " [1.78019625e-306 1.11261774e-306 1.78019625e-306 1.24610994e-306\n",
      "  1.11261570e-306]\n",
      " [1.37961302e-306 1.11260280e-306 8.34451079e-308 8.34402698e-308\n",
      "  3.91792476e-317]]\n"
     ]
    }
   ],
   "source": [
    "arr_empt = np.empty((5,5))\n",
    "print(arr_empt)"
   ]
  },
  {
   "cell_type": "code",
   "execution_count": 12,
   "metadata": {},
   "outputs": [
    {
     "name": "stdout",
     "output_type": "stream",
     "text": [
      "[ 0  1  2  3  4  5  6  7  8  9 10 11]\n"
     ]
    }
   ],
   "source": [
    "np_arrange = np.arange(12)\n",
    "print(np_arrange)"
   ]
  },
  {
   "cell_type": "code",
   "execution_count": 13,
   "metadata": {},
   "outputs": [
    {
     "data": {
      "text/plain": [
       "array([[ 0,  1,  2,  3],\n",
       "       [ 4,  5,  6,  7],\n",
       "       [ 8,  9, 10, 11]])"
      ]
     },
     "execution_count": 13,
     "metadata": {},
     "output_type": "execute_result"
    }
   ],
   "source": [
    "np_arrange.reshape(3,4)\n"
   ]
  },
  {
   "cell_type": "code",
   "execution_count": 14,
   "metadata": {},
   "outputs": [
    {
     "name": "stdout",
     "output_type": "stream",
     "text": [
      "[1.  1.5 2. ]\n"
     ]
    }
   ],
   "source": [
    "np_linspace = np.linspace(1,2,3)\n",
    "print(np_linspace)"
   ]
  },
  {
   "cell_type": "code",
   "execution_count": 18,
   "metadata": {},
   "outputs": [
    {
     "name": "stdout",
     "output_type": "stream",
     "text": [
      "[ 0  1  2  3  4  5  6  7  8  9 10 11 12 13 14]\n",
      "[[ 0  1  2  3  4]\n",
      " [ 5  6  7  8  9]\n",
      " [10 11 12 13 14]]\n"
     ]
    }
   ],
   "source": [
    "one_d_array = np.arange(15)\n",
    "print(one_d_array)\n",
    "two_d_arr = one_d_array.reshape(3,5)\n",
    "print(two_d_arr)"
   ]
  },
  {
   "cell_type": "code",
   "execution_count": 19,
   "metadata": {},
   "outputs": [
    {
     "name": "stdout",
     "output_type": "stream",
     "text": [
      "[[[ 0  1  2]\n",
      "  [ 3  4  5]\n",
      "  [ 6  7  8]]\n",
      "\n",
      " [[ 9 10 11]\n",
      "  [12 13 14]\n",
      "  [15 16 17]]\n",
      "\n",
      " [[18 19 20]\n",
      "  [21 22 23]\n",
      "  [24 25 26]]]\n"
     ]
    }
   ],
   "source": [
    "three_d_array = np.arange(27).reshape(3,3,3)\n",
    "print(three_d_array)"
   ]
  },
  {
   "cell_type": "code",
   "execution_count": 20,
   "metadata": {},
   "outputs": [
    {
     "data": {
      "text/plain": [
       "65"
      ]
     },
     "execution_count": 20,
     "metadata": {},
     "output_type": "execute_result"
    }
   ],
   "source": [
    "np.add(45,20)"
   ]
  },
  {
   "cell_type": "code",
   "execution_count": 22,
   "metadata": {},
   "outputs": [
    {
     "name": "stdout",
     "output_type": "stream",
     "text": [
      "[ 60  75  90 105 120]\n"
     ]
    }
   ],
   "source": [
    "np_daily_wage_hr = np.array([4,5,6,7,8])*15\n",
    "print(np_daily_wage_hr)"
   ]
  },
  {
   "cell_type": "code",
   "execution_count": 25,
   "metadata": {},
   "outputs": [
    {
     "data": {
      "text/plain": [
       "450"
      ]
     },
     "execution_count": 25,
     "metadata": {},
     "output_type": "execute_result"
    }
   ],
   "source": [
    "sum(np_daily_wage_hr)"
   ]
  },
  {
   "cell_type": "code",
   "execution_count": 33,
   "metadata": {},
   "outputs": [
    {
     "data": {
      "text/plain": [
       "array([39, 45, 46, 50])"
      ]
     },
     "execution_count": 33,
     "metadata": {},
     "output_type": "execute_result"
    }
   ],
   "source": [
    "np_weekly_hrs = np.array([39, 40,45,46,50])\n",
    "\n",
    "#np_weekly_hrs[np_weekly_hrs>40]\n",
    "\n",
    "np_weekly_hrs[np_weekly_hrs!=40]\n",
    "\n",
    "#greater_one = [np_weekly_hrs > 40]\n",
    "\n",
    "#print(greater_one)"
   ]
  },
  {
   "cell_type": "code",
   "execution_count": 35,
   "metadata": {},
   "outputs": [
    {
     "data": {
      "text/plain": [
       "array([False, False,  True,  True, False])"
      ]
     },
     "execution_count": 35,
     "metadata": {},
     "output_type": "execute_result"
    }
   ],
   "source": [
    "np.logical_and(np_weekly_hrs>40, np_weekly_hrs<50)"
   ]
  },
  {
   "cell_type": "code",
   "execution_count": 16,
   "metadata": {},
   "outputs": [
    {
     "data": {
      "text/plain": [
       "'Norway'"
      ]
     },
     "execution_count": 16,
     "metadata": {},
     "output_type": "execute_result"
    }
   ],
   "source": [
    "import numpy as np\n",
    "countries = np.array(['Algeria','Angola','Argentina','Australia','Austria','Bahamas','Bangladesh','Belarus','Belgium','Bhutan','Brazil','Bulgaria','Cambodia','Cameroon','Chile','China','Colombia','Cyprus','Denmark','El Salvador','Estonia','Ethiopia','Fiji','Finland','France','Georgia','Ghana','Grenada','Guinea','Haiti','Honduras','Hungary','India','Indonesia','Ireland','Italy','Japan','Kenya', 'South Korea','Liberia','Malaysia','Mexico', 'Morocco','Nepal','New Zealand','Norway','Pakistan', 'Peru','Qatar','Russia','Singapore','South Africa','Spain','Sweden','Switzerland','Thailand', 'United Arab Emirates','United Kingdom','United States','Uruguay','Venezuela','Vietnam','Zimbabwe'\n",
    "])\n",
    "GDP = np.array([2255.225482,629.9553062,11601.63022,25306.82494,27266.40335,19466.99052,588.3691778,2890.345675,24733.62696,1445.760002,4803.398244,2618.876037,590.4521124,665.7982328,7122.938458,2639.54156,3362.4656,15378.16704,30860.12808,2579.115607,6525.541272,229.6769525,2242.689259,27570.4852,23016.84778,1334.646773,402.6953275,6047.200797,394.1156638,385.5793827,1414.072488,5745.981529,837.7464011,1206.991065,27715.52837,18937.24998,39578.07441,478.2194906,16684.21278,279.2204061,5345.213415,6288.25324,1908.304416,274.8728621,14646.42094,40034.85063,672.1547506,3359.517402,36152.66676,3054.727742,33529.83052,3825.093781,15428.32098,33630.24604,39170.41371,2699.123242,21058.43643,28272.40661,37691.02733,9581.05659,5671.912202,757.4009286,347.7456605])\n",
    "\n",
    "maxm = GDP.argmax()\n",
    "maxm\n",
    "country_max_gdp = countries[maxm]\n",
    "country_max_gdp"
   ]
  },
  {
   "cell_type": "code",
   "execution_count": 19,
   "metadata": {},
   "outputs": [
    {
     "data": {
      "text/plain": [
       "'Ethiopia'"
      ]
     },
     "execution_count": 19,
     "metadata": {},
     "output_type": "execute_result"
    }
   ],
   "source": [
    "minm = GDP.argmin()\n",
    "country_min_gdp = countries[minm]\n",
    "country_min_gdp\n"
   ]
  },
  {
   "cell_type": "code",
   "execution_count": 23,
   "metadata": {},
   "outputs": [
    {
     "name": "stdout",
     "output_type": "stream",
     "text": [
      "countries name are Algeria\n",
      "countries name are Angola\n",
      "countries name are Argentina\n",
      "countries name are Australia\n",
      "countries name are Austria\n",
      "countries name are Bahamas\n",
      "countries name are Bangladesh\n",
      "countries name are Belarus\n",
      "countries name are Belgium\n",
      "countries name are Bhutan\n",
      "countries name are Brazil\n",
      "countries name are Bulgaria\n",
      "countries name are Cambodia\n",
      "countries name are Cameroon\n",
      "countries name are Chile\n",
      "countries name are China\n",
      "countries name are Colombia\n",
      "countries name are Cyprus\n",
      "countries name are Denmark\n",
      "countries name are El Salvador\n",
      "countries name are Estonia\n",
      "countries name are Ethiopia\n",
      "countries name are Fiji\n",
      "countries name are Finland\n",
      "countries name are France\n",
      "countries name are Georgia\n",
      "countries name are Ghana\n",
      "countries name are Grenada\n",
      "countries name are Guinea\n",
      "countries name are Haiti\n",
      "countries name are Honduras\n",
      "countries name are Hungary\n",
      "countries name are India\n",
      "countries name are Indonesia\n",
      "countries name are Ireland\n",
      "countries name are Italy\n",
      "countries name are Japan\n",
      "countries name are Kenya\n",
      "countries name are South Korea\n",
      "countries name are Liberia\n",
      "countries name are Malaysia\n",
      "countries name are Mexico\n",
      "countries name are Morocco\n",
      "countries name are Nepal\n",
      "countries name are New Zealand\n",
      "countries name are Norway\n",
      "countries name are Pakistan\n",
      "countries name are Peru\n",
      "countries name are Qatar\n",
      "countries name are Russia\n",
      "countries name are Singapore\n",
      "countries name are South Africa\n",
      "countries name are Spain\n",
      "countries name are Sweden\n",
      "countries name are Switzerland\n",
      "countries name are Thailand\n",
      "countries name are United Arab Emirates\n",
      "countries name are United Kingdom\n",
      "countries name are United States\n",
      "countries name are Uruguay\n",
      "countries name are Venezuela\n",
      "countries name are Vietnam\n",
      "countries name are Zimbabwe\n"
     ]
    }
   ],
   "source": [
    "for country in countries: \n",
    "    print('countries name are {}'.format(country))"
   ]
  },
  {
   "cell_type": "code",
   "execution_count": 33,
   "metadata": {},
   "outputs": [
    {
     "name": "stdout",
     "output_type": "stream",
     "text": [
      "Country Algeria has per capita GDP of 2255.225482\n",
      "Country Angola has per capita GDP of 629.9553062\n",
      "Country Argentina has per capita GDP of 11601.63022\n",
      "Country Australia has per capita GDP of 25306.82494\n",
      "Country Austria has per capita GDP of 27266.40335\n",
      "Country Bahamas has per capita GDP of 19466.99052\n",
      "Country Bangladesh has per capita GDP of 588.3691778\n",
      "Country Belarus has per capita GDP of 2890.345675\n",
      "Country Belgium has per capita GDP of 24733.62696\n",
      "Country Bhutan has per capita GDP of 1445.760002\n",
      "Country Brazil has per capita GDP of 4803.398244\n",
      "Country Bulgaria has per capita GDP of 2618.876037\n",
      "Country Cambodia has per capita GDP of 590.4521124\n",
      "Country Cameroon has per capita GDP of 665.7982328\n",
      "Country Chile has per capita GDP of 7122.938458\n",
      "Country China has per capita GDP of 2639.54156\n",
      "Country Colombia has per capita GDP of 3362.4656\n",
      "Country Cyprus has per capita GDP of 15378.16704\n",
      "Country Denmark has per capita GDP of 30860.12808\n",
      "Country El Salvador has per capita GDP of 2579.115607\n",
      "Country Estonia has per capita GDP of 6525.541272\n",
      "Country Ethiopia has per capita GDP of 229.6769525\n",
      "Country Fiji has per capita GDP of 2242.689259\n",
      "Country Finland has per capita GDP of 27570.4852\n",
      "Country France has per capita GDP of 23016.84778\n",
      "Country Georgia has per capita GDP of 1334.646773\n",
      "Country Ghana has per capita GDP of 402.6953275\n",
      "Country Grenada has per capita GDP of 6047.200797\n",
      "Country Guinea has per capita GDP of 394.1156638\n",
      "Country Haiti has per capita GDP of 385.5793827\n",
      "Country Honduras has per capita GDP of 1414.072488\n",
      "Country Hungary has per capita GDP of 5745.981529\n",
      "Country India has per capita GDP of 837.7464011\n",
      "Country Indonesia has per capita GDP of 1206.991065\n",
      "Country Ireland has per capita GDP of 27715.52837\n",
      "Country Italy has per capita GDP of 18937.24998\n",
      "Country Japan has per capita GDP of 39578.07441\n",
      "Country Kenya has per capita GDP of 478.2194906\n",
      "Country South Korea has per capita GDP of 16684.21278\n",
      "Country Liberia has per capita GDP of 279.2204061\n",
      "Country Malaysia has per capita GDP of 5345.213415\n",
      "Country Mexico has per capita GDP of 6288.25324\n",
      "Country Morocco has per capita GDP of 1908.304416\n",
      "Country Nepal has per capita GDP of 274.8728621\n",
      "Country New Zealand has per capita GDP of 14646.42094\n",
      "Country Norway has per capita GDP of 40034.85063\n",
      "Country Pakistan has per capita GDP of 672.1547506\n",
      "Country Peru has per capita GDP of 3359.517402\n",
      "Country Qatar has per capita GDP of 36152.66676\n",
      "Country Russia has per capita GDP of 3054.727742\n",
      "Country Singapore has per capita GDP of 33529.83052\n",
      "Country South Africa has per capita GDP of 3825.093781\n",
      "Country Spain has per capita GDP of 15428.32098\n",
      "Country Sweden has per capita GDP of 33630.24604\n",
      "Country Switzerland has per capita GDP of 39170.41371\n",
      "Country Thailand has per capita GDP of 2699.123242\n",
      "Country United Arab Emirates has per capita GDP of 21058.43643\n",
      "Country United Kingdom has per capita GDP of 28272.40661\n",
      "Country United States has per capita GDP of 37691.02733\n",
      "Country Uruguay has per capita GDP of 9581.05659\n",
      "Country Venezuela has per capita GDP of 5671.912202\n",
      "Country Vietnam has per capita GDP of 757.4009286\n",
      "Country Zimbabwe has per capita GDP of 347.7456605\n"
     ]
    }
   ],
   "source": [
    "#print countries and their GDP \n",
    "\n",
    "for i in zip(countries, GDP): \n",
    "    print(\"Country {} has per capita GDP of {}\". format(i[0],i[1]))"
   ]
  },
  {
   "cell_type": "code",
   "execution_count": 27,
   "metadata": {},
   "outputs": [
    {
     "data": {
      "text/plain": [
       "11289.409271639683"
      ]
     },
     "execution_count": 27,
     "metadata": {},
     "output_type": "execute_result"
    }
   ],
   "source": [
    "mean_gdp = GDP.mean()\n",
    "mean_gdp"
   ]
  },
  {
   "cell_type": "code",
   "execution_count": 28,
   "metadata": {},
   "outputs": [
    {
     "data": {
      "text/plain": [
       "711232.7841133"
      ]
     },
     "execution_count": 28,
     "metadata": {},
     "output_type": "execute_result"
    }
   ],
   "source": [
    "sum_GDP = GDP.sum()\n",
    "sum_GDP"
   ]
  },
  {
   "cell_type": "code",
   "execution_count": 36,
   "metadata": {},
   "outputs": [
    {
     "name": "stdout",
     "output_type": "stream",
     "text": [
      "12743.828910617945\n"
     ]
    }
   ],
   "source": [
    "print(GDP.std())"
   ]
  },
  {
   "cell_type": "code",
   "execution_count": 72,
   "metadata": {},
   "outputs": [
    {
     "data": {
      "text/plain": [
       "<bound method NDFrame.head of         Unnamed: 1    Unnamed: 2 Unnamed: 3   Unnamed: 4 Unnamed: 5 Unnamed: 6\n",
       "NaN        Country  Country Code       Year  Medal Tally        NaN        NaN\n",
       "NaN            NaN           NaN        NaN         Gold     Silver     Bronze\n",
       "NaN  Great Britain           GBR       2012           29         17         19\n",
       "NaN         China            CHN       2012           38         28         22\n",
       "NaN         Russia           RUS       2012           24         25         32\n",
       "NaN  United States            US       2012           46         28         29\n",
       "NaN          Korea           KOR       2012           13          8          7\n",
       "NaN          Japan           JPN       2012            7         14         17\n",
       "NaN        Germany           GER       2012           11         11         14>"
      ]
     },
     "execution_count": 72,
     "metadata": {},
     "output_type": "execute_result"
    }
   ],
   "source": [
    "#Analyse London Olympics Dataset\n",
    "import numpy as np\n",
    "import pandas as pd\n",
    "\n",
    "df = pd.read_excel('Olympic.xlsx', index_col=0)\n",
    "df.head\n",
    "#to_drop = ['Unnamed: 1', 'Unnamed: 2']\n",
    "#df.drop(head, inplace=True, axis=1)\n",
    "#df"
   ]
  },
  {
   "cell_type": "code",
   "execution_count": 73,
   "metadata": {},
   "outputs": [
    {
     "data": {
      "text/plain": [
       "'US'"
      ]
     },
     "execution_count": 73,
     "metadata": {},
     "output_type": "execute_result"
    }
   ],
   "source": [
    "import numpy as np\n",
    "\n",
    "olympic_country_dataset = np.array(['GBR', 'CHN', 'RUS', 'US', 'KOR', 'JPN', 'GER'])\n",
    "olympic_gold = np.array([29, 38, 24, 46, 13, 7, 11])\n",
    "olympic_silver = np.array([17,28,25,28,8,14,11])\n",
    "olympic_bronze = np.array([19,22,32,29,7,17,14])\n",
    "\n",
    "max_gold = olympic_gold.argmax()\n",
    "country_max_gold = olympic_country_dataset[max_gold]\n",
    "country_max_gold"
   ]
  },
  {
   "cell_type": "code",
   "execution_count": 76,
   "metadata": {},
   "outputs": [
    {
     "name": "stdout",
     "output_type": "stream",
     "text": [
      "the countries with more than 20 medals are GBR with 29 gold medals\n",
      "the countries with more than 20 medals are CHN with 38 gold medals\n",
      "the countries with more than 20 medals are RUS with 24 gold medals\n",
      "the countries with more than 20 medals are US with 46 gold medals\n"
     ]
    }
   ],
   "source": [
    "for i in zip(olympic_country_dataset, olympic_gold):\n",
    "    if i[1] > 20:\n",
    "        print('the countries with more than 20 medals are {} with {} gold medals' . format(i[0], i[1]))"
   ]
  },
  {
   "cell_type": "code",
   "execution_count": 77,
   "metadata": {},
   "outputs": [
    {
     "name": "stdout",
     "output_type": "stream",
     "text": [
      " the medal tally of country GBR for gold is 29, for silver 17 and for bronze 19 respectively\n",
      " the medal tally of country CHN for gold is 38, for silver 28 and for bronze 22 respectively\n",
      " the medal tally of country RUS for gold is 24, for silver 25 and for bronze 32 respectively\n",
      " the medal tally of country US for gold is 46, for silver 28 and for bronze 29 respectively\n",
      " the medal tally of country KOR for gold is 13, for silver 8 and for bronze 7 respectively\n",
      " the medal tally of country JPN for gold is 7, for silver 14 and for bronze 17 respectively\n",
      " the medal tally of country GER for gold is 11, for silver 11 and for bronze 14 respectively\n"
     ]
    }
   ],
   "source": [
    "for i in zip(olympic_country_dataset, olympic_gold, olympic_silver, olympic_bronze): \n",
    "    print(' the medal tally of country {} for gold is {}, silver {} and  bronze {} respectively'. format(i[0], i[1], i[2], i[3]))"
   ]
  },
  {
   "cell_type": "code",
   "execution_count": 85,
   "metadata": {},
   "outputs": [
    {
     "name": "stdout",
     "output_type": "stream",
     "text": [
      " the total number of medal tally is 439\n"
     ]
    }
   ],
   "source": [
    "a = olympic_gold.sum()\n",
    "b = olympic_silver.sum()\n",
    "c = olympic_bronze.sum()\n",
    "\n",
    "print (\" the total number of medal tally is {}\". format(a+b+c))"
   ]
  },
  {
   "cell_type": "code",
   "execution_count": null,
   "metadata": {},
   "outputs": [],
   "source": []
  }
 ],
 "metadata": {
  "kernelspec": {
   "display_name": "Python 3",
   "language": "python",
   "name": "python3"
  },
  "language_info": {
   "codemirror_mode": {
    "name": "ipython",
    "version": 3
   },
   "file_extension": ".py",
   "mimetype": "text/x-python",
   "name": "python",
   "nbconvert_exporter": "python",
   "pygments_lexer": "ipython3",
   "version": "3.7.4"
  }
 },
 "nbformat": 4,
 "nbformat_minor": 2
}
